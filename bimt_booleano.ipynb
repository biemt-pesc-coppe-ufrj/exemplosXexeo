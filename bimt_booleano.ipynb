{
  "nbformat": 4,
  "nbformat_minor": 0,
  "metadata": {
    "colab": {
      "name": "bimt-booleano.ipynb",
      "provenance": [],
      "collapsed_sections": [],
      "toc_visible": true,
      "authorship_tag": "ABX9TyObcgnlgC87Er1AyqykjlcC",
      "include_colab_link": true
    },
    "kernelspec": {
      "name": "python3",
      "display_name": "Python 3"
    }
  },
  "cells": [
    {
      "cell_type": "markdown",
      "metadata": {
        "id": "view-in-github",
        "colab_type": "text"
      },
      "source": [
        "<a href=\"https://colab.research.google.com/github/biemt-pesc-coppe-ufrj/exemplosXexeo/blob/master/bimt_booleano.ipynb\" target=\"_parent\"><img src=\"https://colab.research.google.com/assets/colab-badge.svg\" alt=\"Open In Colab\"/></a>"
      ]
    },
    {
      "cell_type": "markdown",
      "metadata": {
        "id": "CD0-GEFMiDmE",
        "colab_type": "text"
      },
      "source": [
        "# Programa bool0\n",
        "Cria documentos e termos em memória"
      ]
    },
    {
      "cell_type": "code",
      "metadata": {
        "id": "-gg3R4-7w1Q7",
        "colab_type": "code",
        "colab": {
          "base_uri": "https://localhost:8080/",
          "height": 51
        },
        "outputId": "78d58500-4de3-4c7e-af5d-6d2e26a747db"
      },
      "source": [
        "import nltk\n",
        "nltk.download('gutenberg')\n",
        "docs=[0]*6  # Vetor de Documentos\n",
        "\n",
        "# Escolhe 6 documentos entre os fornecidos\n",
        "docs[0]=nltk.corpus.gutenberg.words('austen-sense.txt')\n",
        "docs[1]=nltk.corpus.gutenberg.words('shakespeare-caesar.txt')\n",
        "docs[2]=nltk.corpus.gutenberg.words('shakespeare-hamlet.txt')\n",
        "docs[3]=nltk.corpus.gutenberg.words('shakespeare-macbeth.txt')\n",
        "docs[4]=nltk.corpus.gutenberg.words('melville-moby_dick.txt')\n",
        "docs[5]=nltk.corpus.gutenberg.words('carroll-alice.txt')\n",
        "\n",
        "# Define os termos \n",
        "words = [\"Hamlet\" ,\n",
        "         \"Macbeth\",\n",
        "         \"Caesar\",\n",
        "         \"Antony\",\n",
        "         \"Cleopatra\",\n",
        "         \"John\",\n",
        "         \"Ishmael\",\n",
        "         \"Elinor\",\n",
        "         \"Marianne\",\n",
        "         \"Alice\"\n",
        "         ]\n",
        "words.sort()\n",
        "\n",
        "\n",
        "mtd = [0]*len(words) # Matriz Termo Documentos\n",
        "for i in range(len(words)):\n",
        "  mtd[i] = [0]*len(docs) \n",
        "\n"
      ],
      "execution_count": null,
      "outputs": [
        {
          "output_type": "stream",
          "text": [
            "[nltk_data] Downloading package gutenberg to /root/nltk_data...\n",
            "[nltk_data]   Package gutenberg is already up-to-date!\n"
          ],
          "name": "stdout"
        }
      ]
    },
    {
      "cell_type": "markdown",
      "metadata": {
        "id": "Nn17HY2_iPXZ",
        "colab_type": "text"
      },
      "source": [
        "# Programa bool1\n",
        "\n",
        "Cria uma Matriz Termo Documento usando propriedades do Python"
      ]
    },
    {
      "cell_type": "code",
      "metadata": {
        "id": "Uk-HEuzagiRD",
        "colab_type": "code",
        "colab": {
          "base_uri": "https://localhost:8080/",
          "height": 204
        },
        "outputId": "92bec10a-4f5c-418e-fb3a-7385fa37cdb2"
      },
      "source": [
        "# Verifica se os termos estão presentes nos documentos\n",
        "# e preenche a matriz termo documentos\n",
        "\n",
        "for docn in range(len(docs)):\n",
        "  for wordn in range(len(words)):\n",
        "    if words[wordn] in docs[docn]:\n",
        "      mtd[wordn][docn]=1\n",
        "\n",
        "# imprime para verificação\n",
        "\n",
        "print(\"    DOCS-> \",\"0 1 2 3 4 5\")\n",
        "for i in range(len(words)):\n",
        "  print(\"%10s  \"%words[i],end='')\n",
        "  for j in range(len(docs)):\n",
        "    print(mtd[i][j],end=' ')\n",
        "  print()"
      ],
      "execution_count": null,
      "outputs": [
        {
          "output_type": "stream",
          "text": [
            "    DOCS->  0 1 2 3 4 5\n",
            "     Alice  0 0 0 0 0 1 \n",
            "    Antony  0 1 0 0 1 0 \n",
            "    Caesar  0 1 1 1 1 0 \n",
            " Cleopatra  0 0 0 0 1 0 \n",
            "    Elinor  1 0 0 0 0 0 \n",
            "    Hamlet  1 0 1 0 0 0 \n",
            "   Ishmael  0 0 0 0 1 0 \n",
            "      John  1 0 0 0 1 0 \n",
            "   Macbeth  0 0 0 1 0 0 \n",
            "  Marianne  1 0 0 0 0 0 \n"
          ],
          "name": "stdout"
        }
      ]
    },
    {
      "cell_type": "markdown",
      "metadata": {
        "id": "xwbnJ_wh2fix",
        "colab_type": "text"
      },
      "source": [
        "# Cria lista invertida\n",
        "\n",
        "Cria a lista invertida a partir da mtd"
      ]
    },
    {
      "cell_type": "code",
      "metadata": {
        "id": "FJDbXloblvfJ",
        "colab_type": "code",
        "colab": {
          "base_uri": "https://localhost:8080/",
          "height": 34
        },
        "outputId": "700c3bd2-c312-4e24-b167-d37a2b02dd10"
      },
      "source": [
        "# Lista invertida\n",
        "lista_invertida={}\n",
        "for wordn in range(len(words)):\n",
        "  lista_invertida[words[wordn]]=[]\n",
        "  for docn in range(len(docs)):\n",
        "    if mtd[wordn][docn] == 1:\n",
        "      lista_invertida[words[wordn]].append(docn)\n",
        "\n",
        "print(lista_invertida)\n",
        "  "
      ],
      "execution_count": null,
      "outputs": [
        {
          "output_type": "stream",
          "text": [
            "{'Alice': [5], 'Antony': [1, 4], 'Caesar': [1, 2, 3, 4], 'Cleopatra': [4], 'Elinor': [0], 'Hamlet': [0, 2], 'Ishmael': [4], 'John': [0, 4], 'Macbeth': [3], 'Marianne': [0]}\n"
          ],
          "name": "stdout"
        }
      ]
    },
    {
      "cell_type": "markdown",
      "metadata": {
        "id": "4jsgdyPB2suu",
        "colab_type": "text"
      },
      "source": [
        "# Manipula lista ordenada\n",
        "\n",
        "Essas funções só fazem sentido como exemplo do algoritmo, porque o Python fornece coisas melhores.\n"
      ]
    },
    {
      "cell_type": "code",
      "metadata": {
        "id": "235m6CrUmr6B",
        "colab_type": "code",
        "colab": {}
      },
      "source": [
        "def pandq(p,q):\n",
        "  ans = []\n",
        "  while p and q:\n",
        "    if p[0] == q[0]:\n",
        "      ans.append(p[0])\n",
        "      p = p[1:]\n",
        "    elif p[0]<q[0]:\n",
        "      p = p[1:]\n",
        "    else:\n",
        "      q = q[1:]\n",
        "  return ans\n",
        "\n",
        "def pnotq(p,q):\n",
        "  ans = []\n",
        "  while p and q:\n",
        "    if p[0] == q[0]:\n",
        "      p = p[1:]\n",
        "      q = q[1:]\n",
        "    elif p[0]<q[0]:\n",
        "      ans.append(p[0])\n",
        "      p = p[1:]\n",
        "    else:\n",
        "      q = q[1:]\n",
        "  if p:\n",
        "    ans.extend(p)\n",
        "  return ans\n",
        "\n",
        "def porq(p,q):\n",
        "  ans = []\n",
        "  while p and q:\n",
        "    if p[0] == q[0]:\n",
        "      ans.append(p[0])\n",
        "      p = p[1:]\n",
        "      q = q[1:]\n",
        "    elif p[0]<q[0]:\n",
        "      ans.append(p[0])\n",
        "      p = p[1:]\n",
        "    else:\n",
        "      ans.append(q[0])\n",
        "      q = q[1:]\n",
        "  if p:\n",
        "    ans.extend(p) \n",
        "  if q:\n",
        "    ans.extend(q)\n",
        "  return ans\n",
        "\n"
      ],
      "execution_count": null,
      "outputs": []
    },
    {
      "cell_type": "markdown",
      "metadata": {
        "id": "BcL6C6z6vkPc",
        "colab_type": "text"
      },
      "source": [
        "# Testa as funções\n"
      ]
    },
    {
      "cell_type": "code",
      "metadata": {
        "id": "rcmn-_qEBkfd",
        "colab_type": "code",
        "colab": {
          "base_uri": "https://localhost:8080/",
          "height": 238
        },
        "outputId": "2e533939-3e3c-46e6-a8b1-eafdd7b7372e"
      },
      "source": [
        "# test\n",
        "l_all = [x for x in range(10)]\n",
        "l_odd = list(filter(lambda x : x%2 == 1,l_all))\n",
        "l_even = list(filter(lambda x : x%2 == 0,l_all))\n",
        "print(l_all,l_even,l_odd)\n",
        "print(pandq(l_all,l_odd))\n",
        "print(pandq(l_odd,l_all))\n",
        "print(pandq(l_all,l_even))\n",
        "print(pandq(l_even,l_odd))\n",
        "print(porq(l_all,l_odd))\n",
        "print(porq(l_all,l_even))\n",
        "print(porq(l_even,l_odd))\n",
        "print(pnotq(l_all,l_odd))\n",
        "print(pnotq(l_all,l_even))\n",
        "print(pnotq(l_even,l_odd))\n",
        "print(pnotq(l_odd,l_even))\n",
        "print(pnotq(l_even,l_all))"
      ],
      "execution_count": null,
      "outputs": [
        {
          "output_type": "stream",
          "text": [
            "[0, 1, 2, 3, 4, 5, 6, 7, 8, 9] [0, 2, 4, 6, 8] [1, 3, 5, 7, 9]\n",
            "[1, 3, 5, 7, 9]\n",
            "[1, 3, 5, 7, 9]\n",
            "[0, 2, 4, 6, 8]\n",
            "[]\n",
            "[0, 1, 2, 3, 4, 5, 6, 7, 8, 9]\n",
            "[0, 1, 2, 3, 4, 5, 6, 7, 8, 9]\n",
            "[0, 1, 2, 3, 4, 5, 6, 7, 8, 9]\n",
            "[0, 2, 4, 6, 8]\n",
            "[1, 3, 5, 7, 9]\n",
            "[0, 2, 4, 6, 8]\n",
            "[1, 3, 5, 7, 9]\n",
            "[]\n"
          ],
          "name": "stdout"
        }
      ]
    },
    {
      "cell_type": "markdown",
      "metadata": {
        "id": "EoIanlapvo5p",
        "colab_type": "text"
      },
      "source": [
        "# Faz todos os \"E\"s da lista invertida"
      ]
    },
    {
      "cell_type": "code",
      "metadata": {
        "id": "DNQCs7fMp2Rd",
        "colab_type": "code",
        "colab": {
          "base_uri": "https://localhost:8080/",
          "height": 1000
        },
        "outputId": "29170542-a8c5-40d2-9e2d-6f5d81e7fa5d"
      },
      "source": [
        "\n",
        "for i in lista_invertida:\n",
        "  for j in lista_invertida:\n",
        "    print(i,j,pandq(lista_invertida[i],lista_invertida[j]))"
      ],
      "execution_count": null,
      "outputs": [
        {
          "output_type": "stream",
          "text": [
            "Alice Alice [5]\n",
            "Alice Antony []\n",
            "Alice Caesar []\n",
            "Alice Cleopatra []\n",
            "Alice Elinor []\n",
            "Alice Hamlet []\n",
            "Alice Ishmael []\n",
            "Alice John []\n",
            "Alice Macbeth []\n",
            "Alice Marianne []\n",
            "Antony Alice []\n",
            "Antony Antony [1, 4]\n",
            "Antony Caesar [1, 4]\n",
            "Antony Cleopatra [4]\n",
            "Antony Elinor []\n",
            "Antony Hamlet []\n",
            "Antony Ishmael [4]\n",
            "Antony John [4]\n",
            "Antony Macbeth []\n",
            "Antony Marianne []\n",
            "Caesar Alice []\n",
            "Caesar Antony [1, 4]\n",
            "Caesar Caesar [1, 2, 3, 4]\n",
            "Caesar Cleopatra [4]\n",
            "Caesar Elinor []\n",
            "Caesar Hamlet [2]\n",
            "Caesar Ishmael [4]\n",
            "Caesar John [4]\n",
            "Caesar Macbeth [3]\n",
            "Caesar Marianne []\n",
            "Cleopatra Alice []\n",
            "Cleopatra Antony [4]\n",
            "Cleopatra Caesar [4]\n",
            "Cleopatra Cleopatra [4]\n",
            "Cleopatra Elinor []\n",
            "Cleopatra Hamlet []\n",
            "Cleopatra Ishmael [4]\n",
            "Cleopatra John [4]\n",
            "Cleopatra Macbeth []\n",
            "Cleopatra Marianne []\n",
            "Elinor Alice []\n",
            "Elinor Antony []\n",
            "Elinor Caesar []\n",
            "Elinor Cleopatra []\n",
            "Elinor Elinor [0]\n",
            "Elinor Hamlet [0]\n",
            "Elinor Ishmael []\n",
            "Elinor John [0]\n",
            "Elinor Macbeth []\n",
            "Elinor Marianne [0]\n",
            "Hamlet Alice []\n",
            "Hamlet Antony []\n",
            "Hamlet Caesar [2]\n",
            "Hamlet Cleopatra []\n",
            "Hamlet Elinor [0]\n",
            "Hamlet Hamlet [0, 2]\n",
            "Hamlet Ishmael []\n",
            "Hamlet John [0]\n",
            "Hamlet Macbeth []\n",
            "Hamlet Marianne [0]\n",
            "Ishmael Alice []\n",
            "Ishmael Antony [4]\n",
            "Ishmael Caesar [4]\n",
            "Ishmael Cleopatra [4]\n",
            "Ishmael Elinor []\n",
            "Ishmael Hamlet []\n",
            "Ishmael Ishmael [4]\n",
            "Ishmael John [4]\n",
            "Ishmael Macbeth []\n",
            "Ishmael Marianne []\n",
            "John Alice []\n",
            "John Antony [4]\n",
            "John Caesar [4]\n",
            "John Cleopatra [4]\n",
            "John Elinor [0]\n",
            "John Hamlet [0]\n",
            "John Ishmael [4]\n",
            "John John [0, 4]\n",
            "John Macbeth []\n",
            "John Marianne [0]\n",
            "Macbeth Alice []\n",
            "Macbeth Antony []\n",
            "Macbeth Caesar [3]\n",
            "Macbeth Cleopatra []\n",
            "Macbeth Elinor []\n",
            "Macbeth Hamlet []\n",
            "Macbeth Ishmael []\n",
            "Macbeth John []\n",
            "Macbeth Macbeth [3]\n",
            "Macbeth Marianne []\n",
            "Marianne Alice []\n",
            "Marianne Antony []\n",
            "Marianne Caesar []\n",
            "Marianne Cleopatra []\n",
            "Marianne Elinor [0]\n",
            "Marianne Hamlet [0]\n",
            "Marianne Ishmael []\n",
            "Marianne John [0]\n",
            "Marianne Macbeth []\n",
            "Marianne Marianne [0]\n"
          ],
          "name": "stdout"
        }
      ]
    },
    {
      "cell_type": "markdown",
      "metadata": {
        "id": "8hkeFRkav587",
        "colab_type": "text"
      },
      "source": [
        "# Teste pnotq"
      ]
    },
    {
      "cell_type": "code",
      "metadata": {
        "colab_type": "code",
        "id": "6T9HVSxfmaYY",
        "colab": {
          "base_uri": "https://localhost:8080/",
          "height": 1000
        },
        "outputId": "b4492274-f788-41a2-cbda-b535b9f07b78"
      },
      "source": [
        "for i in lista_invertida:\n",
        "  for j in lista_invertida:\n",
        "    print(i,\" e não \",j,pnotq(lista_invertida[i],lista_invertida[j]))\n"
      ],
      "execution_count": null,
      "outputs": [
        {
          "output_type": "stream",
          "text": [
            "Alice  e não  Alice []\n",
            "Alice  e não  Antony [5]\n",
            "Alice  e não  Caesar [5]\n",
            "Alice  e não  Cleopatra [5]\n",
            "Alice  e não  Elinor [5]\n",
            "Alice  e não  Hamlet [5]\n",
            "Alice  e não  Ishmael [5]\n",
            "Alice  e não  John [5]\n",
            "Alice  e não  Macbeth [5]\n",
            "Alice  e não  Marianne [5]\n",
            "Antony  e não  Alice [1, 4]\n",
            "Antony  e não  Antony []\n",
            "Antony  e não  Caesar []\n",
            "Antony  e não  Cleopatra [1]\n",
            "Antony  e não  Elinor [1, 4]\n",
            "Antony  e não  Hamlet [1, 4]\n",
            "Antony  e não  Ishmael [1]\n",
            "Antony  e não  John [1]\n",
            "Antony  e não  Macbeth [1, 4]\n",
            "Antony  e não  Marianne [1, 4]\n",
            "Caesar  e não  Alice [1, 2, 3, 4]\n",
            "Caesar  e não  Antony [2, 3]\n",
            "Caesar  e não  Caesar []\n",
            "Caesar  e não  Cleopatra [1, 2, 3]\n",
            "Caesar  e não  Elinor [1, 2, 3, 4]\n",
            "Caesar  e não  Hamlet [1, 3, 4]\n",
            "Caesar  e não  Ishmael [1, 2, 3]\n",
            "Caesar  e não  John [1, 2, 3]\n",
            "Caesar  e não  Macbeth [1, 2, 4]\n",
            "Caesar  e não  Marianne [1, 2, 3, 4]\n",
            "Cleopatra  e não  Alice [4]\n",
            "Cleopatra  e não  Antony []\n",
            "Cleopatra  e não  Caesar []\n",
            "Cleopatra  e não  Cleopatra []\n",
            "Cleopatra  e não  Elinor [4]\n",
            "Cleopatra  e não  Hamlet [4]\n",
            "Cleopatra  e não  Ishmael []\n",
            "Cleopatra  e não  John []\n",
            "Cleopatra  e não  Macbeth [4]\n",
            "Cleopatra  e não  Marianne [4]\n",
            "Elinor  e não  Alice [0]\n",
            "Elinor  e não  Antony [0]\n",
            "Elinor  e não  Caesar [0]\n",
            "Elinor  e não  Cleopatra [0]\n",
            "Elinor  e não  Elinor []\n",
            "Elinor  e não  Hamlet []\n",
            "Elinor  e não  Ishmael [0]\n",
            "Elinor  e não  John []\n",
            "Elinor  e não  Macbeth [0]\n",
            "Elinor  e não  Marianne []\n",
            "Hamlet  e não  Alice [0, 2]\n",
            "Hamlet  e não  Antony [0, 2]\n",
            "Hamlet  e não  Caesar [0]\n",
            "Hamlet  e não  Cleopatra [0, 2]\n",
            "Hamlet  e não  Elinor [2]\n",
            "Hamlet  e não  Hamlet []\n",
            "Hamlet  e não  Ishmael [0, 2]\n",
            "Hamlet  e não  John [2]\n",
            "Hamlet  e não  Macbeth [0, 2]\n",
            "Hamlet  e não  Marianne [2]\n",
            "Ishmael  e não  Alice [4]\n",
            "Ishmael  e não  Antony []\n",
            "Ishmael  e não  Caesar []\n",
            "Ishmael  e não  Cleopatra []\n",
            "Ishmael  e não  Elinor [4]\n",
            "Ishmael  e não  Hamlet [4]\n",
            "Ishmael  e não  Ishmael []\n",
            "Ishmael  e não  John []\n",
            "Ishmael  e não  Macbeth [4]\n",
            "Ishmael  e não  Marianne [4]\n",
            "John  e não  Alice [0, 4]\n",
            "John  e não  Antony [0]\n",
            "John  e não  Caesar [0]\n",
            "John  e não  Cleopatra [0]\n",
            "John  e não  Elinor [4]\n",
            "John  e não  Hamlet [4]\n",
            "John  e não  Ishmael [0]\n",
            "John  e não  John []\n",
            "John  e não  Macbeth [0, 4]\n",
            "John  e não  Marianne [4]\n",
            "Macbeth  e não  Alice [3]\n",
            "Macbeth  e não  Antony [3]\n",
            "Macbeth  e não  Caesar []\n",
            "Macbeth  e não  Cleopatra [3]\n",
            "Macbeth  e não  Elinor [3]\n",
            "Macbeth  e não  Hamlet [3]\n",
            "Macbeth  e não  Ishmael [3]\n",
            "Macbeth  e não  John [3]\n",
            "Macbeth  e não  Macbeth []\n",
            "Macbeth  e não  Marianne [3]\n",
            "Marianne  e não  Alice [0]\n",
            "Marianne  e não  Antony [0]\n",
            "Marianne  e não  Caesar [0]\n",
            "Marianne  e não  Cleopatra [0]\n",
            "Marianne  e não  Elinor []\n",
            "Marianne  e não  Hamlet []\n",
            "Marianne  e não  Ishmael [0]\n",
            "Marianne  e não  John []\n",
            "Marianne  e não  Macbeth [0]\n",
            "Marianne  e não  Marianne []\n"
          ],
          "name": "stdout"
        }
      ]
    },
    {
      "cell_type": "markdown",
      "metadata": {
        "id": "f5RSA_efF4SD",
        "colab_type": "text"
      },
      "source": [
        "# Cria lista invertida \"na mão\"\n",
        "\n",
        "Aqui uma forma de criar listas invertidas termo a termo do documento, porém só os termos que estamos interessados\n",
        "\n",
        "É similar ao que se faz na prática\n"
      ]
    },
    {
      "cell_type": "code",
      "metadata": {
        "id": "tGBKJEVeOw2X",
        "colab_type": "code",
        "colab": {
          "base_uri": "https://localhost:8080/",
          "height": 187
        },
        "outputId": "181bd32d-5402-44cb-b0fa-61f75a5124e7"
      },
      "source": [
        "lis_inver = {}\n",
        "\n",
        "for docn in range(len(docs)): # tamanho da coleção de documentos\n",
        "  for term in docs[docn]: # le o documento termo a termo\n",
        "    if term in words:# se o termo deve ser indexado\n",
        "      if docn not in lis_inver.get(term,[]): # e ainda não foi indexado\n",
        "        lis_inver[term] = lis_inver.get(term,[])+[docn] #indexa\n",
        "\n",
        "#mostra o resultado\n",
        "keys = list(lis_inver.keys())\n",
        "keys.sort()\n",
        "for key in keys:\n",
        "  print(\"%10s ->\"%key,end=\" \")\n",
        "  print(lis_inver[key])\n",
        "  "
      ],
      "execution_count": null,
      "outputs": [
        {
          "output_type": "stream",
          "text": [
            "     Alice -> [5]\n",
            "    Antony -> [1, 4]\n",
            "    Caesar -> [1, 2, 3, 4]\n",
            " Cleopatra -> [4]\n",
            "    Elinor -> [0]\n",
            "    Hamlet -> [0, 2]\n",
            "   Ishmael -> [4]\n",
            "      John -> [0, 4]\n",
            "   Macbeth -> [3]\n",
            "  Marianne -> [0]\n"
          ],
          "name": "stdout"
        }
      ]
    },
    {
      "cell_type": "markdown",
      "metadata": {
        "id": "BWabAaL4XYRQ",
        "colab_type": "text"
      },
      "source": [
        "# Infix to PostFix\n",
        "\n",
        "Usamos a notação infix para executar facilmente um expressão entregue na notação postfix. É mais fácil a transformação, nesse caso, que fazer o parser da string , criar a árvore e executar na ordem certa.\n",
        "\n",
        "Essa função não verifica a sintaxe da expressão algébrica, logo não detecta erros como (A OU B) C E.\n",
        "\n",
        "1. Scan the infix expression from left to right.\n",
        "2. If the scanned character is an operand, output it.\n",
        "3. Else,\n",
        "3.1. If the precedence of the scanned operator is greater than the precedence of the operator in the stack(or the stack is empty or the stack contains a ‘(‘ ), push it.\n",
        "…..3.2 Else, Pop all the operators from the stack which are greater than or equal to in precedence than that of the scanned operator. After doing that Push the scanned operator to the stack. (If you encounter parenthesis while popping then stop there and push the scanned operator in the stack.)\n",
        "4. If the scanned character is an ‘(‘, push it to the stack.\n",
        "5. If the scanned character is an ‘)’, pop the stack and and output it until a ‘(‘ is encountered, and discard both the parenthesis.\n",
        "6. Repeat steps 2-6 until infix expression is scanned.\n",
        "7. Print the output\n",
        "8. Pop and output from the stack until it is not empty.\n",
        "\n",
        "Esse algoritmo foi encontrado em https://www.geeksforgeeks.org/stack-set-2-infix-to-postfix/\n"
      ]
    },
    {
      "cell_type": "code",
      "metadata": {
        "id": "ZNuj5VlrXc3n",
        "colab_type": "code",
        "colab": {}
      },
      "source": [
        "# essa tabele da prioridades ajuda a decidir\n",
        "# se devemos ou não colocar a lista na saida quando \n",
        "# lemos um operador novo\n",
        "prioridade = {\"(\" : 10 , \")\" : 10 , \"NÃO\" : 9 ,\n",
        "              \"NOT\" : 9 , \"E\" : 8 ,\"AND\" : 8, \n",
        "              \"OU\" : 7 , \"OR\" : 7 , \"+\" : 7 , \n",
        "              \".\" : 8 , \"~\" : 9, \n",
        "              \"*\" : 8 , \"-\" : 9}\n",
        "\n",
        "\n",
        "def i2p(expr):\n",
        "  pilha = []\n",
        "  saida = []\n",
        "  # conserta espaços faltando\n",
        "  entrada = expr.replace(\"(\",\" ( \").replace(\")\",\" ) \").split()\n",
        "  for token in entrada:\n",
        "    pt = prioridade.get(token,0)\n",
        "    if pt == 0: # if operando, output , operandos vão direto para a saída\n",
        "      saida.append(token)\n",
        "    elif token == \"(\": # abre parenteses vai direto para a pilha\n",
        "      pilha.append(token)\n",
        "    elif token == \")\":\n",
        "      while pilha and pilha[-1] != \"(\":\n",
        "        saida.append(pilha.pop())\n",
        "      pilha.pop()\n",
        "    elif not pilha: # if stack empty\n",
        "      pilha.append(token)\n",
        "    elif pt>prioridade.get(pilha[-1],0):\n",
        "        pilha.append(token)  \n",
        "    elif \"(\" in pilha[-1]: # if top stack is ()\n",
        "      pilha.append(token)\n",
        "    else:\n",
        "      while pilha and prioridade[pilha[-1]] >= pt and pilha[-1] != \"(\":\n",
        "        saida.append(pilha.pop())\n",
        "      pilha.append(token)\n",
        "  while pilha :\n",
        "    saida.append(pilha.pop())\n",
        "  return(saida)\n",
        "\n"
      ],
      "execution_count": null,
      "outputs": []
    },
    {
      "cell_type": "code",
      "metadata": {
        "id": "MWFDQRXuGd3v",
        "colab_type": "code",
        "colab": {
          "base_uri": "https://localhost:8080/",
          "height": 68
        },
        "outputId": "40464ee5-7fc5-417a-8068-90687fb5e827"
      },
      "source": [
        "TESTE = \"(A  NOT B) E C  NOT (D OU NOT(F))\"\n",
        "TESTE2 = \"A NOT B OU C\"\n",
        "TESTE3 = \"A E B OU C\"\n",
        "print(i2p(TESTE))\n",
        "print(i2p(TESTE2))\n",
        "print(i2p(TESTE3))"
      ],
      "execution_count": null,
      "outputs": [
        {
          "output_type": "stream",
          "text": [
            "['A', 'B', 'NOT', 'C', 'D', 'F', 'NOT', 'OU', 'NOT', 'E']\n",
            "['A', 'B', 'NOT', 'C', 'OU']\n",
            "['A', 'B', 'E', 'C', 'OU']\n"
          ],
          "name": "stdout"
        }
      ]
    },
    {
      "cell_type": "markdown",
      "metadata": {
        "id": "XVvPWStyw_2N",
        "colab_type": "text"
      },
      "source": [
        "# faz a consulta expr na coleção docs\n",
        "\n",
        "Usa os documentos de forma direta com o \"in\" do Python\n"
      ]
    },
    {
      "cell_type": "code",
      "metadata": {
        "id": "9wuDY4uScRSW",
        "colab_type": "code",
        "colab": {
          "base_uri": "https://localhost:8080/",
          "height": 51
        },
        "outputId": "ed2079ec-ac6d-4b5b-ead0-b3905772aae3"
      },
      "source": [
        "def processa(expr,docs):\n",
        "  consulta = i2p(expr)\n",
        "  pilha = []\n",
        "  ops = prioridade.keys()\n",
        "  for tk in consulta:\n",
        "    if tk not in ops:\n",
        "      lista = []\n",
        "      for docn in range(len(docs)):\n",
        "        if tk in docs[docn]:\n",
        "         lista.append(docn)\n",
        "      pilha.append(lista)\n",
        "    if tk in [\"E\",\"*\",\".\",\"AND\"]:\n",
        "      pilha.append(pandq(pilha.pop(),pilha.pop()))\n",
        "    if tk in [\"OU\",\"+\",\"OR\"] :\n",
        "      pilha.append(porq(pilha.pop(),pilha.pop()))\n",
        "    if tk in [\"NOT\",\"~\",\"-\",\"NÃO\"]:\n",
        "      buf = pilha.pop()\n",
        "      pilha.append(pnotq(pilha.pop(),buf))\n",
        "  return(pilha.pop())\n",
        "      \n",
        "print(processa(\"Caesar E Antony OU Alice\",docs))\n",
        "print(processa(\"Caesar - Antony + Alice * (cat + though)\",docs))\n",
        "\n",
        "      \n",
        "\n",
        "    "
      ],
      "execution_count": null,
      "outputs": [
        {
          "output_type": "stream",
          "text": [
            "[1, 4, 5]\n",
            "[2, 3, 5]\n"
          ],
          "name": "stdout"
        }
      ]
    },
    {
      "cell_type": "markdown",
      "metadata": {
        "id": "50fKD2ptxTKp",
        "colab_type": "text"
      },
      "source": [
        "# Aqui usamos conjuntos e operações de conjuntos em Python\n"
      ]
    },
    {
      "cell_type": "code",
      "metadata": {
        "id": "SWxec7bhkvzN",
        "colab_type": "code",
        "colab": {}
      },
      "source": [
        "def processa_booleano(expr,docs):\n",
        "  consulta = i2p(expr)\n",
        "  pilha = []\n",
        "  ops = prioridade.keys()\n",
        "  for tk in consulta:\n",
        "    if tk not in ops:\n",
        "      found = set()\n",
        "      for docn in range(len(docs)):\n",
        "        if tk in docs[docn]: \n",
        "          found.add(docn)\n",
        "      pilha.append(found)\n",
        "    if tk in [\"E\",\"*\",\".\",\"AND\"]:\n",
        "      pilha.append(pilha.pop().intersection(pilha.pop()))\n",
        "    if tk in [\"OU\",\"+\",\"OR\"]:\n",
        "      pilha.append(pilha.pop().union(pilha.pop()))\n",
        "    if tk in [\"NOT\",\"~\",\"-\",\"NÃO\"]:\n",
        "      buf = pilha.pop()\n",
        "      pilha.append(pilha.pop().difference(buf))\n",
        "  return(pilha.pop())\n",
        "      \n"
      ],
      "execution_count": null,
      "outputs": []
    },
    {
      "cell_type": "code",
      "metadata": {
        "id": "xuG9ZKHMyFWu",
        "colab_type": "code",
        "colab": {
          "base_uri": "https://localhost:8080/",
          "height": 527
        },
        "outputId": "131fe044-a817-43e0-c12f-12b8d769b3db"
      },
      "source": [
        "for w in words:\n",
        "  print(\" {:>10} - {}\".format(w,processa_booleano(w,docs)))\n",
        "\n",
        "queries = [\"Hamlet AND Caesar\",\n",
        "           \"Hamlet NOT Caesar\",\n",
        "           \"Elinor OR Alice\",\n",
        "           \"Elinor OR Alice AND Hamlet\",\n",
        "           \"(Elinor OR Alice) AND Hamlet\",\n",
        "           \"Elinor OR (Alice NOT Caesar) AND Caesar\",\n",
        "           \"Antony OR Alice OR Caesar AND John\",\n",
        "           \"Rome\",\n",
        "           \"London\",\n",
        "           \"Rome OR London\"\n",
        "           ]\n",
        "\n",
        "for q in queries:\n",
        "  print(i2p(q))\n",
        "  print(\" {:>20} - {}\".format(q,processa_booleano(q,docs)))\n"
      ],
      "execution_count": null,
      "outputs": [
        {
          "output_type": "stream",
          "text": [
            "      Alice - {5}\n",
            "     Antony - {1, 4}\n",
            "     Caesar - {1, 2, 3, 4}\n",
            "  Cleopatra - {4}\n",
            "     Elinor - {0}\n",
            "     Hamlet - {0, 2}\n",
            "    Ishmael - {4}\n",
            "       John - {0, 4}\n",
            "    Macbeth - {3}\n",
            "   Marianne - {0}\n",
            "['Hamlet', 'Caesar', 'AND']\n",
            "    Hamlet AND Caesar - {2}\n",
            "['Hamlet', 'Caesar', 'NOT']\n",
            "    Hamlet NOT Caesar - {0}\n",
            "['Elinor', 'Alice', 'OR']\n",
            "      Elinor OR Alice - {0, 5}\n",
            "['Elinor', 'Alice', 'Hamlet', 'AND', 'OR']\n",
            " Elinor OR Alice AND Hamlet - {0}\n",
            "['Elinor', 'Alice', 'OR', 'Hamlet', 'AND']\n",
            " (Elinor OR Alice) AND Hamlet - {0}\n",
            "['Elinor', 'Alice', 'Caesar', 'NOT', 'Caesar', 'AND', 'OR']\n",
            " Elinor OR (Alice NOT Caesar) AND Caesar - {0}\n",
            "['Antony', 'Alice', 'OR', 'Caesar', 'John', 'AND', 'OR']\n",
            " Antony OR Alice OR Caesar AND John - {1, 4, 5}\n",
            "['Rome']\n",
            "                 Rome - {1, 2, 4, 5}\n",
            "['London']\n",
            "               London - {0, 4, 5}\n",
            "['Rome', 'London', 'OR']\n",
            "       Rome OR London - {0, 1, 2, 4, 5}\n"
          ],
          "name": "stdout"
        }
      ]
    },
    {
      "cell_type": "markdown",
      "metadata": {
        "id": "mo2yUtqaMmgR",
        "colab_type": "text"
      },
      "source": [
        "# Processa com o índice\n",
        "\n",
        "Aqui partimos da lista invertida, não dos documentos\n",
        " e usamos nossos operadores de listas\n",
        "pandq, porq e pnotq\n"
      ]
    },
    {
      "cell_type": "code",
      "metadata": {
        "id": "p8cMO-ZNMluU",
        "colab_type": "code",
        "colab": {}
      },
      "source": [
        "def processa_booleano_lista(expr,lista_invertida):\n",
        "  consulta = i2p(expr)\n",
        "  pilha = []\n",
        "  ops = prioridade.keys()\n",
        "  for tk in consulta:\n",
        "    if tk not in ops:\n",
        "      pilha.append(lista_invertida[tk])\n",
        "    if tk in [\"E\",\"*\",\".\",\"AND\"]:\n",
        "      pilha.append(pandq(pilha.pop(),pilha.pop()))\n",
        "    if tk in [\"OU\",\"+\",\"OR\"]:\n",
        "      pilha.append(porq(pilha.pop(),pilha.pop()))\n",
        "    if tk in [\"NOT\",\"~\",\"-\",\"NÃO\"]:\n",
        "      buf = pilha.pop()\n",
        "      pilha.append(pnotq(pilha.pop(),buf))\n",
        "  return(pilha.pop())\n",
        "      "
      ],
      "execution_count": null,
      "outputs": []
    },
    {
      "cell_type": "code",
      "metadata": {
        "colab_type": "code",
        "id": "h0Ld3uKpTWjD",
        "colab": {
          "base_uri": "https://localhost:8080/",
          "height": 425
        },
        "outputId": "c4ca2fd8-d7ff-460e-9729-614e6bc6d79e"
      },
      "source": [
        "for w in words:\n",
        "  print(\" {:>10} - {}\".format(w,processa_booleano_lista(w,lis_inver)))\n",
        "\n",
        "queries = [\"Hamlet AND Caesar\",\n",
        "           \"Hamlet NOT Caesar\",\n",
        "           \"Elinor OR Alice\",\n",
        "           \"Elinor OR Alice AND Hamlet\",\n",
        "           \"(Elinor OR Alice) AND Hamlet\",\n",
        "           \"Elinor OR (Alice NOT Caesar) AND Caesar\",\n",
        "           \"Antony OR Alice OR Caesar AND John\",\n",
        "           ]\n",
        "\n",
        "for q in queries:\n",
        "  print(i2p(q))\n",
        "  print(\" {:>20} - {}\".format(q,processa_booleano_lista(q,lis_inver)))\n"
      ],
      "execution_count": null,
      "outputs": [
        {
          "output_type": "stream",
          "text": [
            "      Alice - [5]\n",
            "     Antony - [1, 4]\n",
            "     Caesar - [1, 2, 3, 4]\n",
            "  Cleopatra - [4]\n",
            "     Elinor - [0]\n",
            "     Hamlet - [0, 2]\n",
            "    Ishmael - [4]\n",
            "       John - [0, 4]\n",
            "    Macbeth - [3]\n",
            "   Marianne - [0]\n",
            "['Hamlet', 'Caesar', 'AND']\n",
            "    Hamlet AND Caesar - [2]\n",
            "['Hamlet', 'Caesar', 'NOT']\n",
            "    Hamlet NOT Caesar - [0]\n",
            "['Elinor', 'Alice', 'OR']\n",
            "      Elinor OR Alice - [0, 5]\n",
            "['Elinor', 'Alice', 'Hamlet', 'AND', 'OR']\n",
            " Elinor OR Alice AND Hamlet - [0]\n",
            "['Elinor', 'Alice', 'OR', 'Hamlet', 'AND']\n",
            " (Elinor OR Alice) AND Hamlet - [0]\n",
            "['Elinor', 'Alice', 'Caesar', 'NOT', 'Caesar', 'AND', 'OR']\n",
            " Elinor OR (Alice NOT Caesar) AND Caesar - [0]\n",
            "['Antony', 'Alice', 'OR', 'Caesar', 'John', 'AND', 'OR']\n",
            " Antony OR Alice OR Caesar AND John - [1, 4, 5]\n"
          ],
          "name": "stdout"
        }
      ]
    }
  ]
}