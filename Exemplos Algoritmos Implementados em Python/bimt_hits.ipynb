{
  "nbformat": 4,
  "nbformat_minor": 0,
  "metadata": {
    "colab": {
      "name": "bimt-hits.ipynb",
      "provenance": []
    },
    "kernelspec": {
      "name": "python3",
      "display_name": "Python 3"
    }
  },
  "cells": [
    {
      "cell_type": "code",
      "metadata": {
        "id": "iMUmxVKg6fIp",
        "colab_type": "code",
        "colab": {}
      },
      "source": [
        "import numpy as np\n",
        "\n",
        "L = np.array([[0, 0, 1, 0, 1],[1, 0, 1, 0, 0],[0, 1, 0, 1, 0],[1, 0, 0, 0, 1],[0, 0, 1, 0, 0]])\n",
        "n = L.shape[0]\n",
        "\n",
        "hubs = np.ones(n)\n",
        "auts = np.ones(n)\n",
        "\n",
        "ERROR = 10000000\n",
        "NORM = 1 # sum of abs "
      ],
      "execution_count": null,
      "outputs": []
    },
    {
      "cell_type": "code",
      "metadata": {
        "id": "E1JCsWogMfhH",
        "colab_type": "code",
        "colab": {}
      },
      "source": [
        "DEF_SIZE = 50\n",
        "\n",
        "def center(s,size=DEF_SIZE):\n",
        "  tam = (size - len(s))//2\n",
        "  return \" \"*tam+s\n",
        "\n",
        "def print_line(char=\"=\",size=DEF_SIZE):\n",
        "  print(char*size)"
      ],
      "execution_count": null,
      "outputs": []
    },
    {
      "cell_type": "code",
      "metadata": {
        "id": "4vKQxyfr7Rjp",
        "colab_type": "code",
        "colab": {
          "base_uri": "https://localhost:8080/",
          "height": 221
        },
        "outputId": "4b19b8ee-b3b2-46af-8fb6-e1a9a71d54b2"
      },
      "source": [
        "print_line()\n",
        "print(center(\"L\"))\n",
        "print(L)\n",
        "print_line(\"-\")\n",
        "print(f\"n = {n}\")\n",
        "print_line(\"-\")\n",
        "print(center(\"hubs e auts\"))\n",
        "print(hubs,auts)"
      ],
      "execution_count": null,
      "outputs": [
        {
          "output_type": "stream",
          "text": [
            "==================================================\n",
            "                        L\n",
            "[[0 0 1 0 1]\n",
            " [1 0 1 0 0]\n",
            " [0 1 0 1 0]\n",
            " [1 0 0 0 1]\n",
            " [0 0 1 0 0]]\n",
            "--------------------------------------------------\n",
            "n = 5\n",
            "--------------------------------------------------\n",
            "                   hubs e auts\n",
            "[1. 1. 1. 1. 1.] [1. 1. 1. 1. 1.]\n"
          ],
          "name": "stdout"
        }
      ]
    },
    {
      "cell_type": "code",
      "metadata": {
        "id": "ptXbMG657fJP",
        "colab_type": "code",
        "colab": {}
      },
      "source": [
        "\n",
        "def hits_matrixes(L):\n",
        "    LT = L.transpose()\n",
        "    AUT = LT.dot(L)\n",
        "    HUB = L.dot(LT)\n",
        "    return AUT,HUB,LT\n",
        "\n"
      ],
      "execution_count": null,
      "outputs": []
    },
    {
      "cell_type": "code",
      "metadata": {
        "id": "cyieBxcz7scH",
        "colab_type": "code",
        "colab": {}
      },
      "source": [
        "\n",
        "AUT,HUB,LT = hits_matrixes(L)\n",
        "\n"
      ],
      "execution_count": null,
      "outputs": []
    },
    {
      "cell_type": "code",
      "metadata": {
        "id": "8f0zbtcmNvdw",
        "colab_type": "code",
        "colab": {
          "base_uri": "https://localhost:8080/",
          "height": 340
        },
        "outputId": "7820b430-6519-4a26-bccf-6866d8a6464d"
      },
      "source": [
        "print_line()\n",
        "print(center(\"AUT\"))\n",
        "print(AUT)\n",
        "print(center(\"HUB\"))\n",
        "print(HUB)\n",
        "print(center(\"LT\"))\n",
        "print(LT)"
      ],
      "execution_count": null,
      "outputs": [
        {
          "output_type": "stream",
          "text": [
            "==================================================\n",
            "                       AUT\n",
            "[[2 0 1 0 1]\n",
            " [0 1 0 1 0]\n",
            " [1 0 3 0 1]\n",
            " [0 1 0 1 0]\n",
            " [1 0 1 0 2]]\n",
            "                       HUB\n",
            "[[2 1 0 1 1]\n",
            " [1 2 0 1 1]\n",
            " [0 0 2 0 0]\n",
            " [1 1 0 2 0]\n",
            " [1 1 0 0 1]]\n",
            "                        LT\n",
            "[[0 1 0 1 0]\n",
            " [0 0 1 0 0]\n",
            " [1 1 0 0 1]\n",
            " [0 0 1 0 0]\n",
            " [1 0 0 1 0]]\n"
          ],
          "name": "stdout"
        }
      ]
    },
    {
      "cell_type": "code",
      "metadata": {
        "id": "1ncdmHoaL5kq",
        "colab_type": "code",
        "colab": {}
      },
      "source": [
        ""
      ],
      "execution_count": null,
      "outputs": []
    },
    {
      "cell_type": "markdown",
      "metadata": {
        "id": "qaZENkDHNACB",
        "colab_type": "text"
      },
      "source": [
        "# HITS como o livro acha o resultado\n"
      ]
    },
    {
      "cell_type": "code",
      "metadata": {
        "id": "5WCdlHIdICz2",
        "colab_type": "code",
        "colab": {
          "base_uri": "https://localhost:8080/",
          "height": 442
        },
        "outputId": "3f7915cb-6f56-461e-94c4-9503d51d8d08"
      },
      "source": [
        "# controlando a impressão de números\n",
        "\n",
        "np.set_printoptions(precision=3)\n",
        "np.set_printoptions(suppress=True)\n",
        "\n",
        "\n",
        "# erro admitido\n",
        "epsilon = np.ones(n)/ERROR\n",
        "\n",
        "# no início os vetores são unitários\n",
        "auts = np.ones(n)\n",
        "hubs = np.ones(n)\n",
        "\n",
        "print_line(size=80)\n",
        "print(center(\"norma calculada ||1\",80))\n",
        "\n",
        "passo = 0\n",
        "while True:\n",
        "  passo += 1\n",
        "  auts_old = auts # guarda para calcular o erro\n",
        "  hubs_old = hubs\n",
        "  auts = LT.dot(hubs) # conta básica\n",
        "  hubs = L.dot(auts)\n",
        "\n",
        "  norma = 0 # calcula normas || ||1 \n",
        "  for i in auts:\n",
        "    norma += abs(i)\n",
        "  normh = 0\n",
        "  for j in hubs:\n",
        "    normh += abs(j)\n",
        "  auts /= norma #max(auts)\n",
        "  hubs /= normh #max(hubs)\n",
        "\n",
        "  print(f\"passo {passo:2d} {auts} {hubs}\")  #verifica se chegou no erro admitido\n",
        "  if  (((abs(hubs - hubs_old)) < epsilon).all()) and \\\n",
        "      (((abs(auts - auts_old)) < epsilon).all()):\n",
        "    break\n",
        "\n",
        "print_line(\"-\",80)\n",
        "print(center(\"resultado\",size=80))\n",
        "print(auts,hubs)"
      ],
      "execution_count": null,
      "outputs": [
        {
          "output_type": "stream",
          "text": [
            "================================================================================\n",
            "                              norma calculada ||1\n",
            "passo  1 [0.222 0.111 0.333 0.111 0.222] [0.263 0.263 0.105 0.211 0.158]\n",
            "passo  2 [0.257 0.057 0.371 0.057 0.257] [0.278 0.278 0.051 0.228 0.165]\n",
            "passo  3 [0.276 0.028 0.393 0.028 0.276] [0.286 0.286 0.024 0.236 0.168]\n",
            "passo  4 [0.285 0.013 0.404 0.013 0.285] [0.29  0.29  0.011 0.24  0.17 ]\n",
            "passo  5 [0.289 0.006 0.41  0.006 0.289] [0.291 0.291 0.005 0.241 0.171]\n",
            "passo  6 [0.291 0.003 0.412 0.003 0.291] [0.292 0.292 0.002 0.242 0.171]\n",
            "passo  7 [0.292 0.001 0.413 0.001 0.292] [0.293 0.293 0.001 0.242 0.171]\n",
            "passo  8 [0.293 0.001 0.414 0.001 0.293] [0.293 0.293 0.    0.243 0.171]\n",
            "passo  9 [0.293 0.    0.414 0.    0.293] [0.293 0.293 0.    0.243 0.172]\n",
            "passo 10 [0.293 0.    0.414 0.    0.293] [0.293 0.293 0.    0.243 0.172]\n",
            "passo 11 [0.293 0.    0.414 0.    0.293] [0.293 0.293 0.    0.243 0.172]\n",
            "passo 12 [0.293 0.    0.414 0.    0.293] [0.293 0.293 0.    0.243 0.172]\n",
            "passo 13 [0.293 0.    0.414 0.    0.293] [0.293 0.293 0.    0.243 0.172]\n",
            "passo 14 [0.293 0.    0.414 0.    0.293] [0.293 0.293 0.    0.243 0.172]\n",
            "passo 15 [0.293 0.    0.414 0.    0.293] [0.293 0.293 0.    0.243 0.172]\n",
            "passo 16 [0.293 0.    0.414 0.    0.293] [0.293 0.293 0.    0.243 0.172]\n",
            "passo 17 [0.293 0.    0.414 0.    0.293] [0.293 0.293 0.    0.243 0.172]\n",
            "passo 18 [0.293 0.    0.414 0.    0.293] [0.293 0.293 0.    0.243 0.172]\n",
            "passo 19 [0.293 0.    0.414 0.    0.293] [0.293 0.293 0.    0.243 0.172]\n",
            "passo 20 [0.293 0.    0.414 0.    0.293] [0.293 0.293 0.    0.243 0.172]\n",
            "--------------------------------------------------------------------------------\n",
            "                                   resultado\n",
            "[0.293 0.    0.414 0.    0.293] [0.293 0.293 0.    0.243 0.172]\n"
          ],
          "name": "stdout"
        }
      ]
    },
    {
      "cell_type": "code",
      "metadata": {
        "id": "z7Y2AdOePj3l",
        "colab_type": "code",
        "colab": {
          "base_uri": "https://localhost:8080/",
          "height": 442
        },
        "outputId": "4200b4e4-638b-4738-cb80-2d4470941d08"
      },
      "source": [
        "# mesmo programa que o anterior usando agora a norma do np\n",
        "\n",
        "np.set_printoptions(precision=3)\n",
        "np.set_printoptions(suppress=True)\n",
        "\n",
        "epsilon = np.ones(n)/ERROR\n",
        "\n",
        "auts = np.ones(n)\n",
        "hubs = np.ones(n)\n",
        "\n",
        "print_line(size=80)\n",
        "print(center(\"norma nympy linalg\",80))\n",
        "\n",
        "\n",
        "while True:\n",
        "  auts_old = auts\n",
        "  hubs_old = hubs\n",
        "  auts = LT.dot(hubs)\n",
        "  hubs = L.dot(auts)\n",
        "\n",
        "  norma = np.linalg.norm(auts,ord=NORM)\n",
        "  normh = np.linalg.norm(hubs,ord=NORM)\n",
        "  auts /= norma \n",
        "  hubs /= normh \n",
        "\n",
        "  print(f\"passo {passo:2d} {auts} {hubs}\")  #verifica se chegou no erro admitido\n",
        "  if  (((abs(hubs - hubs_old)) < epsilon).all()) and \\\n",
        "      (((abs(auts - auts_old)) < epsilon).all()):\n",
        "    break\n",
        "\n",
        "\n",
        "print_line(\"-\",80)\n",
        "print(center(\"resultado\",size=80))\n",
        "print(auts,hubs)   \n",
        "\n"
      ],
      "execution_count": null,
      "outputs": [
        {
          "output_type": "stream",
          "text": [
            "================================================================================\n",
            "                               norma nympy linalg\n",
            "passo 20 [0.222 0.111 0.333 0.111 0.222] [0.263 0.263 0.105 0.211 0.158]\n",
            "passo 20 [0.257 0.057 0.371 0.057 0.257] [0.278 0.278 0.051 0.228 0.165]\n",
            "passo 20 [0.276 0.028 0.393 0.028 0.276] [0.286 0.286 0.024 0.236 0.168]\n",
            "passo 20 [0.285 0.013 0.404 0.013 0.285] [0.29  0.29  0.011 0.24  0.17 ]\n",
            "passo 20 [0.289 0.006 0.41  0.006 0.289] [0.291 0.291 0.005 0.241 0.171]\n",
            "passo 20 [0.291 0.003 0.412 0.003 0.291] [0.292 0.292 0.002 0.242 0.171]\n",
            "passo 20 [0.292 0.001 0.413 0.001 0.292] [0.293 0.293 0.001 0.242 0.171]\n",
            "passo 20 [0.293 0.001 0.414 0.001 0.293] [0.293 0.293 0.    0.243 0.171]\n",
            "passo 20 [0.293 0.    0.414 0.    0.293] [0.293 0.293 0.    0.243 0.172]\n",
            "passo 20 [0.293 0.    0.414 0.    0.293] [0.293 0.293 0.    0.243 0.172]\n",
            "passo 20 [0.293 0.    0.414 0.    0.293] [0.293 0.293 0.    0.243 0.172]\n",
            "passo 20 [0.293 0.    0.414 0.    0.293] [0.293 0.293 0.    0.243 0.172]\n",
            "passo 20 [0.293 0.    0.414 0.    0.293] [0.293 0.293 0.    0.243 0.172]\n",
            "passo 20 [0.293 0.    0.414 0.    0.293] [0.293 0.293 0.    0.243 0.172]\n",
            "passo 20 [0.293 0.    0.414 0.    0.293] [0.293 0.293 0.    0.243 0.172]\n",
            "passo 20 [0.293 0.    0.414 0.    0.293] [0.293 0.293 0.    0.243 0.172]\n",
            "passo 20 [0.293 0.    0.414 0.    0.293] [0.293 0.293 0.    0.243 0.172]\n",
            "passo 20 [0.293 0.    0.414 0.    0.293] [0.293 0.293 0.    0.243 0.172]\n",
            "passo 20 [0.293 0.    0.414 0.    0.293] [0.293 0.293 0.    0.243 0.172]\n",
            "passo 20 [0.293 0.    0.414 0.    0.293] [0.293 0.293 0.    0.243 0.172]\n",
            "--------------------------------------------------------------------------------\n",
            "                                   resultado\n",
            "[0.293 0.    0.414 0.    0.293] [0.293 0.293 0.    0.243 0.172]\n"
          ],
          "name": "stdout"
        }
      ]
    },
    {
      "cell_type": "code",
      "metadata": {
        "id": "ksCYbmLh_535",
        "colab_type": "code",
        "colab": {}
      },
      "source": [
        "def power(A,x):\n",
        "  return A.dot(x.transpose())\n",
        "\n",
        "\n",
        "# potencia com a norma linalg\n",
        "def powerk(A,k,x):\n",
        "  AK = A\n",
        "  for i in range(k-1):\n",
        "    AK = AK.dot(A)\n",
        "  R = AK.dot(x.transpose())\n",
        "  norma = np.linalg.norm(R,ord=NORM)\n",
        "  return R/norma\n",
        "\n",
        "# potencia com a norma calculada\n",
        "def powerk2(A,k,x):\n",
        "  AK = A\n",
        "  for i in range(k-1):\n",
        "    AK = AK.dot(A)\n",
        "  R = AK.dot(x.transpose())\n",
        "  soma = 0\n",
        "  for i in R:\n",
        "    soma += i\n",
        "  return R/soma"
      ],
      "execution_count": null,
      "outputs": []
    },
    {
      "cell_type": "code",
      "metadata": {
        "id": "8h1xYjT_70fv",
        "colab_type": "code",
        "colab": {
          "base_uri": "https://localhost:8080/",
          "height": 102
        },
        "outputId": "4d5cace4-d140-4c7f-fbe1-a578fc98559e"
      },
      "source": [
        "import math\n",
        "S = np.array([1, 1, 1, 1, 1])\n",
        "S1 = S.copy()\n",
        "for i in range(5):\n",
        "  S = power(AUT,S.transpose())\n",
        "  norma = 0\n",
        "  for value in S:\n",
        "    norma += value**2\n",
        "  norma = math.sqrt(norma)\n",
        "  #if i %10 == 0:\n",
        "  print(S/norma)\n"
      ],
      "execution_count": null,
      "outputs": [
        {
          "output_type": "stream",
          "text": [
            "[0.496 0.248 0.62  0.248 0.496]\n",
            "[0.504 0.119 0.682 0.119 0.504]\n",
            "[0.502 0.054 0.699 0.054 0.502]\n",
            "[0.501 0.025 0.705 0.025 0.501]\n",
            "[0.5   0.011 0.706 0.011 0.5  ]\n"
          ],
          "name": "stdout"
        }
      ]
    },
    {
      "cell_type": "code",
      "metadata": {
        "id": "U_4J2xolMFPe",
        "colab_type": "code",
        "colab": {
          "base_uri": "https://localhost:8080/",
          "height": 102
        },
        "outputId": "9a766a9f-6eac-403f-9055-fff3ad301dab"
      },
      "source": [
        "print_line()\n",
        "print(center(\"powerk\"))\n",
        "print(powerk(AUT,15,S1))\n",
        "print(center(\"powerk2\"))\n",
        "print(powerk2(AUT,15,S1))\n",
        "\n"
      ],
      "execution_count": null,
      "outputs": [
        {
          "output_type": "stream",
          "text": [
            "==================================================\n",
            "                      powerk\n",
            "[0.293 0.    0.414 0.    0.293]\n",
            "                     powerk2\n",
            "[0.293 0.    0.414 0.    0.293]\n"
          ],
          "name": "stdout"
        }
      ]
    }
  ]
}