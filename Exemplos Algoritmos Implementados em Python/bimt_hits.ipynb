{
  "nbformat": 4,
  "nbformat_minor": 0,
  "metadata": {
    "colab": {
      "name": "bimt-hits.ipynb",
      "provenance": [],
      "authorship_tag": "ABX9TyN/GVS60ocaHqkcXKS5ao4O",
      "include_colab_link": true
    },
    "kernelspec": {
      "name": "python3",
      "display_name": "Python 3"
    }
  },
  "cells": [
    {
      "cell_type": "markdown",
      "metadata": {
        "id": "view-in-github",
        "colab_type": "text"
      },
      "source": [
        "<a href=\"https://colab.research.google.com/github/biemt-pesc-coppe-ufrj/exemplosXexeo/blob/master/bimt_hits.ipynb\" target=\"_parent\"><img src=\"https://colab.research.google.com/assets/colab-badge.svg\" alt=\"Open In Colab\"/></a>"
      ]
    },
    {
      "cell_type": "code",
      "metadata": {
        "id": "iMUmxVKg6fIp",
        "colab_type": "code",
        "colab": {}
      },
      "source": [
        "import numpy as np\n",
        "\n",
        "L = np.array([[0, 0, 1, 0, 1],[1, 0, 1, 0, 0],[0, 1, 0, 1, 0],[1, 0, 0, 0, 1],[0, 0, 1, 0, 0]])\n",
        "n = L.shape[0]\n",
        "hubs = np.ones(n)\n",
        "auts = np.ones(n)"
      ],
      "execution_count": 145,
      "outputs": []
    },
    {
      "cell_type": "code",
      "metadata": {
        "id": "4vKQxyfr7Rjp",
        "colab_type": "code",
        "colab": {
          "base_uri": "https://localhost:8080/",
          "height": 104
        },
        "outputId": "74ad1c1d-1ff4-4623-cb5d-ca321dedb563"
      },
      "source": [
        "print(L,n,hubs,auts)"
      ],
      "execution_count": 146,
      "outputs": [
        {
          "output_type": "stream",
          "text": [
            "[[0 0 1 0 1]\n",
            " [1 0 1 0 0]\n",
            " [0 1 0 1 0]\n",
            " [1 0 0 0 1]\n",
            " [0 0 1 0 0]] 5 [1. 1. 1. 1. 1.] [1. 1. 1. 1. 1.]\n"
          ],
          "name": "stdout"
        }
      ]
    },
    {
      "cell_type": "code",
      "metadata": {
        "id": "ptXbMG657fJP",
        "colab_type": "code",
        "colab": {}
      },
      "source": [
        "def hits_matrixes(L):\n",
        "    LT = L.transpose()\n",
        "    AUT = LT.dot(L)\n",
        "    HUB = L.dot(LT)\n",
        "    return AUT,HUB\n",
        "\n"
      ],
      "execution_count": 147,
      "outputs": []
    },
    {
      "cell_type": "code",
      "metadata": {
        "id": "cyieBxcz7scH",
        "colab_type": "code",
        "colab": {
          "base_uri": "https://localhost:8080/",
          "height": 192
        },
        "outputId": "7cccd358-a457-4051-87fe-5bed06582201"
      },
      "source": [
        "AUT,HUB = hits_matrixes(L)\n",
        "print(AUT)\n",
        "print(HUB)"
      ],
      "execution_count": 148,
      "outputs": [
        {
          "output_type": "stream",
          "text": [
            "[[2 0 1 0 1]\n",
            " [0 1 0 1 0]\n",
            " [1 0 3 0 1]\n",
            " [0 1 0 1 0]\n",
            " [1 0 1 0 2]]\n",
            "[[2 1 0 1 1]\n",
            " [1 2 0 1 1]\n",
            " [0 0 2 0 0]\n",
            " [1 1 0 2 0]\n",
            " [1 1 0 0 1]]\n"
          ],
          "name": "stdout"
        }
      ]
    },
    {
      "cell_type": "code",
      "metadata": {
        "id": "1ncdmHoaL5kq",
        "colab_type": "code",
        "colab": {}
      },
      "source": [
        ""
      ],
      "execution_count": 148,
      "outputs": []
    },
    {
      "cell_type": "markdown",
      "metadata": {
        "id": "qaZENkDHNACB",
        "colab_type": "text"
      },
      "source": [
        "# HITS como o livro acha o resultado"
      ]
    },
    {
      "cell_type": "code",
      "metadata": {
        "id": "5WCdlHIdICz2",
        "colab_type": "code",
        "colab": {
          "base_uri": "https://localhost:8080/",
          "height": 314
        },
        "outputId": "36120847-7d5d-4e1a-eb7d-8323c2a95cfa"
      },
      "source": [
        "np.set_printoptions(precision=3)\n",
        "np.set_printoptions(suppress=True)\n",
        "epsilon = np.ones(n)/1000000\n",
        "auts = np.ones(n)\n",
        "hubs = np.ones(n)\n",
        "while True:\n",
        "  auts_old = auts\n",
        "  hubs_old = hubs\n",
        "  auts = LT.dot(hubs)\n",
        "  hubs = L.dot(auts)\n",
        "  norma = 0\n",
        "  for i in auts:\n",
        "    norma += i\n",
        "  normh = 0\n",
        "  for j in hubs:\n",
        "    normh += j\n",
        "  auts /= norma #max(auts)\n",
        "  hubs /= normh #max(hubs)\n",
        "  print(auts,hubs)\n",
        "  if  (((abs(hubs - hubs_old)) < epsilon).all()) and \\\n",
        "      (((abs(auts - auts_old)) < epsilon).all()):\n",
        "    break"
      ],
      "execution_count": 149,
      "outputs": [
        {
          "output_type": "stream",
          "text": [
            "[0.222 0.111 0.333 0.111 0.222] [0.263 0.263 0.105 0.211 0.158]\n",
            "[0.257 0.057 0.371 0.057 0.257] [0.278 0.278 0.051 0.228 0.165]\n",
            "[0.276 0.028 0.393 0.028 0.276] [0.286 0.286 0.024 0.236 0.168]\n",
            "[0.285 0.013 0.404 0.013 0.285] [0.29  0.29  0.011 0.24  0.17 ]\n",
            "[0.289 0.006 0.41  0.006 0.289] [0.291 0.291 0.005 0.241 0.171]\n",
            "[0.291 0.003 0.412 0.003 0.291] [0.292 0.292 0.002 0.242 0.171]\n",
            "[0.292 0.001 0.413 0.001 0.292] [0.293 0.293 0.001 0.242 0.171]\n",
            "[0.293 0.001 0.414 0.001 0.293] [0.293 0.293 0.    0.243 0.171]\n",
            "[0.293 0.    0.414 0.    0.293] [0.293 0.293 0.    0.243 0.172]\n",
            "[0.293 0.    0.414 0.    0.293] [0.293 0.293 0.    0.243 0.172]\n",
            "[0.293 0.    0.414 0.    0.293] [0.293 0.293 0.    0.243 0.172]\n",
            "[0.293 0.    0.414 0.    0.293] [0.293 0.293 0.    0.243 0.172]\n",
            "[0.293 0.    0.414 0.    0.293] [0.293 0.293 0.    0.243 0.172]\n",
            "[0.293 0.    0.414 0.    0.293] [0.293 0.293 0.    0.243 0.172]\n",
            "[0.293 0.    0.414 0.    0.293] [0.293 0.293 0.    0.243 0.172]\n",
            "[0.293 0.    0.414 0.    0.293] [0.293 0.293 0.    0.243 0.172]\n",
            "[0.293 0.    0.414 0.    0.293] [0.293 0.293 0.    0.243 0.172]\n"
          ],
          "name": "stdout"
        }
      ]
    },
    {
      "cell_type": "code",
      "metadata": {
        "id": "z7Y2AdOePj3l",
        "colab_type": "code",
        "colab": {
          "base_uri": "https://localhost:8080/",
          "height": 314
        },
        "outputId": "6d6b4ccf-9348-41a5-b391-940c59def0a6"
      },
      "source": [
        "np.set_printoptions(precision=3)\n",
        "np.set_printoptions(suppress=True)\n",
        "epsilon = np.ones(n)/1000000\n",
        "auts = np.ones(n)\n",
        "hubs = np.ones(n)\n",
        "while True:\n",
        "  auts_old = auts\n",
        "  hubs_old = hubs\n",
        "  auts = LT.dot(hubs)\n",
        "  hubs = L.dot(auts)\n",
        "  norma = np.linalg.norm(auts)\n",
        "  normh = np.linalg.norm(hubs)\n",
        "  auts /= norma \n",
        "  hubs /= normh \n",
        "  print(auts,hubs)\n",
        "  if  (((abs(hubs - hubs_old)) < epsilon).all()) and \\\n",
        "      (((abs(auts - auts_old)) < epsilon).all()):\n",
        "    break"
      ],
      "execution_count": 150,
      "outputs": [
        {
          "output_type": "stream",
          "text": [
            "[0.459 0.229 0.688 0.229 0.459] [0.563 0.563 0.225 0.45  0.338]\n",
            "[0.489 0.109 0.706 0.109 0.489] [0.572 0.572 0.104 0.468 0.338]\n",
            "[0.497 0.05  0.708 0.05  0.497] [0.574 0.574 0.047 0.474 0.337]\n",
            "[0.499 0.023 0.708 0.023 0.499] [0.575 0.575 0.021 0.475 0.337]\n",
            "[0.5   0.01  0.707 0.01  0.5  ] [0.575 0.575 0.01  0.476 0.337]\n",
            "[0.5   0.005 0.707 0.005 0.5  ] [0.575 0.575 0.004 0.476 0.337]\n",
            "[0.5   0.002 0.707 0.002 0.5  ] [0.575 0.575 0.002 0.476 0.337]\n",
            "[0.5   0.001 0.707 0.001 0.5  ] [0.575 0.575 0.001 0.476 0.337]\n",
            "[0.5   0.    0.707 0.    0.5  ] [0.575 0.575 0.    0.476 0.337]\n",
            "[0.5   0.    0.707 0.    0.5  ] [0.575 0.575 0.    0.476 0.337]\n",
            "[0.5   0.    0.707 0.    0.5  ] [0.575 0.575 0.    0.476 0.337]\n",
            "[0.5   0.    0.707 0.    0.5  ] [0.575 0.575 0.    0.476 0.337]\n",
            "[0.5   0.    0.707 0.    0.5  ] [0.575 0.575 0.    0.476 0.337]\n",
            "[0.5   0.    0.707 0.    0.5  ] [0.575 0.575 0.    0.476 0.337]\n",
            "[0.5   0.    0.707 0.    0.5  ] [0.575 0.575 0.    0.476 0.337]\n",
            "[0.5   0.    0.707 0.    0.5  ] [0.575 0.575 0.    0.476 0.337]\n",
            "[0.5   0.    0.707 0.    0.5  ] [0.575 0.575 0.    0.476 0.337]\n"
          ],
          "name": "stdout"
        }
      ]
    },
    {
      "cell_type": "code",
      "metadata": {
        "id": "ksCYbmLh_535",
        "colab_type": "code",
        "colab": {}
      },
      "source": [
        "def power(A,x):\n",
        "  return A.dot(x.transpose())\n",
        "\n",
        "\n",
        "def powerk(A,k,x):\n",
        "  AK = A\n",
        "  for i in range(k-1):\n",
        "    AK = AK.dot(A)\n",
        "  R = AK.dot(x.transpose())\n",
        "  norma = np.linalg.norm(R)\n",
        "  return R/norma\n",
        "\n",
        "def powerk2(A,k,x):\n",
        "  AK = A\n",
        "  for i in range(k-1):\n",
        "    AK = AK.dot(A)\n",
        "  R = AK.dot(x.transpose())\n",
        "  soma = 0\n",
        "  for i in R:\n",
        "    soma += i\n",
        "  return R/soma"
      ],
      "execution_count": 151,
      "outputs": []
    },
    {
      "cell_type": "code",
      "metadata": {
        "id": "8h1xYjT_70fv",
        "colab_type": "code",
        "colab": {
          "base_uri": "https://localhost:8080/",
          "height": 227
        },
        "outputId": "49ef2398-2a82-4698-c8ab-dfae1f122ab9"
      },
      "source": [
        "import math\n",
        "S = np.array([1, 1, 1, 1, 1])\n",
        "S1 = S.copy()\n",
        "for i in range(5):\n",
        "  S = power(AUT,S.transpose())\n",
        "  norma = 0\n",
        "  for value in S:\n",
        "    norma += value**2\n",
        "  print(norma)\n",
        "  norma = math.sqrt(norma)\n",
        "  #if i %10 == 0:\n",
        "  print(S/norma)\n",
        "print(powerk(AUT,15,S1))\n",
        "print(powerk2(AUT,15,S1))"
      ],
      "execution_count": 152,
      "outputs": [
        {
          "output_type": "stream",
          "text": [
            "65\n",
            "[0.496 0.248 0.62  0.248 0.496]\n",
            "1139\n",
            "[0.504 0.119 0.682 0.119 0.504]\n",
            "21689\n",
            "[0.502 0.054 0.699 0.054 0.502]\n",
            "420611\n",
            "[0.501 0.025 0.705 0.025 0.501]\n",
            "8187737\n",
            "[0.5   0.011 0.706 0.011 0.5  ]\n",
            "[0.5   0.    0.707 0.    0.5  ]\n",
            "[0.293 0.    0.414 0.    0.293]\n"
          ],
          "name": "stdout"
        }
      ]
    },
    {
      "cell_type": "code",
      "metadata": {
        "id": "5pi9j3nw_twq",
        "colab_type": "code",
        "colab": {
          "base_uri": "https://localhost:8080/",
          "height": 559
        },
        "outputId": "853bee44-c104-41fc-ca25-ad31dc3d9e90"
      },
      "source": [
        "A = np.array([[2, -12],[1, -5]])\n",
        "x = np.array([1, 1]).transpose()\n",
        "y = x.copy()\n",
        "for i in range(30):\n",
        "  x=power(A,x)\n",
        "  print(x,x/min(x))\n",
        "a = powerk(A,30,y)\n",
        "print(a/min(a))"
      ],
      "execution_count": 153,
      "outputs": [
        {
          "output_type": "stream",
          "text": [
            "[-10  -4] [1.  0.4]\n",
            "[28 10] [2.8 1. ]\n",
            "[-64 -22] [1.    0.344]\n",
            "[136  46] [2.957 1.   ]\n",
            "[-280  -94] [1.    0.336]\n",
            "[568 190] [2.989 1.   ]\n",
            "[-1144  -382] [1.    0.334]\n",
            "[2296  766] [2.997 1.   ]\n",
            "[-4600 -1534] [1.    0.333]\n",
            "[9208 3070] [2.999 1.   ]\n",
            "[-18424  -6142] [1.    0.333]\n",
            "[36856 12286] [3. 1.]\n",
            "[-73720 -24574] [1.    0.333]\n",
            "[147448  49150] [3. 1.]\n",
            "[-294904  -98302] [1.    0.333]\n",
            "[589816 196606] [3. 1.]\n",
            "[-1179640  -393214] [1.    0.333]\n",
            "[2359288  786430] [3. 1.]\n",
            "[-4718584 -1572862] [1.    0.333]\n",
            "[9437176 3145726] [3. 1.]\n",
            "[-18874360  -6291454] [1.    0.333]\n",
            "[37748728 12582910] [3. 1.]\n",
            "[-75497464 -25165822] [1.    0.333]\n",
            "[150994936  50331646] [3. 1.]\n",
            "[-301989880 -100663294] [1.    0.333]\n",
            "[603979768 201326590] [3. 1.]\n",
            "[-1207959544  -402653182] [1.    0.333]\n",
            "[2415919096  805306366] [3. 1.]\n",
            "[-4831838200 -1610612734] [1.    0.333]\n",
            "[9663676408 3221225470] [3. 1.]\n",
            "[3. 1.]\n"
          ],
          "name": "stdout"
        }
      ]
    }
  ]
}