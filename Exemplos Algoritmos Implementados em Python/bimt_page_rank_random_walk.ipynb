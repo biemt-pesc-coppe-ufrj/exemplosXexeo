{
  "nbformat": 4,
  "nbformat_minor": 0,
  "metadata": {
    "colab": {
      "name": "bimt-page-rank-random-walk.ipynb",
      "provenance": [],
      "collapsed_sections": []
    },
    "kernelspec": {
      "name": "python3",
      "display_name": "Python 3"
    }
  },
  "cells": [
    {
      "cell_type": "code",
      "metadata": {
        "id": "MMWL9aXKbk6W",
        "colab_type": "code",
        "colab": {}
      },
      "source": [
        "from random import random\n",
        "from random import randint\n",
        "\n",
        "np.set_printoptions(precision=3)\n",
        "np.set_printoptions(suppress=True)"
      ],
      "execution_count": 222,
      "outputs": []
    },
    {
      "cell_type": "markdown",
      "metadata": {
        "id": "YDZ2sZlXVBBg",
        "colab_type": "text"
      },
      "source": [
        "# Configuração Inicial"
      ]
    },
    {
      "cell_type": "code",
      "metadata": {
        "id": "lhcIsIS3bKCi",
        "colab_type": "code",
        "colab": {}
      },
      "source": [
        "PASSOS = 1000000\n",
        "\n",
        "A = [[0,0,.5,0,.5],\n",
        "     [.5,0,.5,0,0],\n",
        "     [0,.5,0,.5,0],\n",
        "     [.5,0,0,0,.5],\n",
        "     [0,0,1,0,0]]\n",
        "\n",
        "\n",
        "#A = [[.02, 0.02, 0.88, 0.02, 0.02, 0.02, 0.02],\n",
        "#     [0.02, 0.45, 0.45, 0.02, 0.02, 0.02, 0.02],\n",
        "#     [0.31, 0.02, 0.31, 0.31, 0.02, 0.02, 0.02],\n",
        "#     [0.02, 0.02, 0.02, 0.45, 0.45, 0.02, 0.02],\n",
        "#     [0.02, 0.02, 0.02, 0.02, 0.02, 0.02, 0.88],\n",
        "#     [0.02, 0.02, 0.02, 0.02, 0.02, 0.45, 0.45],\n",
        "#     [0.02, 0.02, 0.02, 0.31, 0.31, 0.02, 0.31]]\n",
        "\n",
        "p = .86\n",
        "\n",
        "n = len(A)\n"
      ],
      "execution_count": 223,
      "outputs": []
    },
    {
      "cell_type": "code",
      "metadata": {
        "id": "EmGeT4xJYTsZ",
        "colab_type": "code",
        "colab": {}
      },
      "source": [
        "DEF_SIZE = 50\n",
        "\n",
        "def center(s,size=DEF_SIZE):\n",
        "  tam = (size - len(s))//2\n",
        "  return \" \"*tam+s\n",
        "\n",
        "def print_line(char=\"=\",size=DEF_SIZE):\n",
        "  print(char*size)\n",
        "  "
      ],
      "execution_count": 224,
      "outputs": []
    },
    {
      "cell_type": "markdown",
      "metadata": {
        "id": "sBUkGKYRVDmX",
        "colab_type": "text"
      },
      "source": [
        "# Fazendo o Random Walk"
      ]
    },
    {
      "cell_type": "code",
      "metadata": {
        "id": "WTHv3tgwcj3P",
        "colab_type": "code",
        "colab": {}
      },
      "source": [
        "def pick_next(node,M=A,P=p):\n",
        "  x = random()\n",
        "  if x>P:\n",
        "    #print(\"x\",end=\"\")\n",
        "    return randint(0,n-1)\n",
        "  else:\n",
        "    total = M[node][0]\n",
        "    y = random()\n",
        "    for i in range(len(M[node])):\n",
        "      if y <= total:\n",
        "        return i\n",
        "      total += M[node][i+1]\n",
        "  print(\"hem?\",x,i)\n"
      ],
      "execution_count": 225,
      "outputs": []
    },
    {
      "cell_type": "code",
      "metadata": {
        "id": "RW6vCu2ycom7",
        "colab_type": "code",
        "colab": {}
      },
      "source": [
        "conta = [0]*n\n",
        "node = randint(0,n-1)\n",
        "\n",
        "\n",
        "for i in range(PASSOS):\n",
        "  conta[node] += 1\n",
        "  node = pick_next(node)\n",
        "  #print(f\"{node} \",end=\"\")\n"
      ],
      "execution_count": 226,
      "outputs": []
    },
    {
      "cell_type": "code",
      "metadata": {
        "id": "fK_bI30ac-Z-",
        "colab_type": "code",
        "colab": {
          "base_uri": "https://localhost:8080/",
          "height": 34
        },
        "outputId": "c8e54fc2-4937-44d9-c613-c2d20124939f"
      },
      "source": [
        "conta2 = list(map(lambda x: x/PASSOS,conta))\n",
        "total = sum(conta2)\n",
        "\n",
        "result_rw = np.array(conta2)\n",
        "\n",
        "print(result_rw)\n",
        "\n"
      ],
      "execution_count": 227,
      "outputs": [
        {
          "output_type": "stream",
          "text": [
            "[0.171 0.167 0.322 0.167 0.174]\n"
          ],
          "name": "stdout"
        }
      ]
    },
    {
      "cell_type": "markdown",
      "metadata": {
        "id": "L97xqGdWle8O",
        "colab_type": "text"
      },
      "source": [
        "# Preparações para formas de cálculo"
      ]
    },
    {
      "cell_type": "code",
      "metadata": {
        "id": "pIK_5az9gDAv",
        "colab_type": "code",
        "colab": {}
      },
      "source": [
        "import numpy as np\n",
        "from scipy.linalg import eig"
      ],
      "execution_count": 228,
      "outputs": []
    },
    {
      "cell_type": "code",
      "metadata": {
        "id": "f0rtXMP3gGgG",
        "colab_type": "code",
        "colab": {
          "base_uri": "https://localhost:8080/",
          "height": 102
        },
        "outputId": "779f06b6-ab5e-4d17-d542-c2fdc8309bab"
      },
      "source": [
        "Ar = np.array(A,float)\n",
        "\n",
        "\n",
        "print(Ar)"
      ],
      "execution_count": 229,
      "outputs": [
        {
          "output_type": "stream",
          "text": [
            "[[0.  0.  0.5 0.  0.5]\n",
            " [0.5 0.  0.5 0.  0. ]\n",
            " [0.  0.5 0.  0.5 0. ]\n",
            " [0.5 0.  0.  0.  0.5]\n",
            " [0.  0.  1.  0.  0. ]]\n"
          ],
          "name": "stdout"
        }
      ]
    },
    {
      "cell_type": "markdown",
      "metadata": {
        "id": "DfOkzyjYVI4H",
        "colab_type": "text"
      },
      "source": [
        "# Usando a matriz do Pagerank passo a passo"
      ]
    },
    {
      "cell_type": "code",
      "metadata": {
        "id": "axwJdq94gSNV",
        "colab_type": "code",
        "colab": {
          "base_uri": "https://localhost:8080/",
          "height": 255
        },
        "outputId": "d9416601-c2e8-4a62-e8dc-a2f563b515ee"
      },
      "source": [
        "e = np.ones((n,1),float)\n",
        "et = e.transpose()\n",
        "E = e*et/n\n",
        "print(e,et,E)\n",
        "\n",
        "PrM = p*Ar+(1-p)*E\n",
        "\n",
        "print(PrM)"
      ],
      "execution_count": 230,
      "outputs": [
        {
          "output_type": "stream",
          "text": [
            "[[1.]\n",
            " [1.]\n",
            " [1.]\n",
            " [1.]\n",
            " [1.]] [[1. 1. 1. 1. 1.]] [[0.2 0.2 0.2 0.2 0.2]\n",
            " [0.2 0.2 0.2 0.2 0.2]\n",
            " [0.2 0.2 0.2 0.2 0.2]\n",
            " [0.2 0.2 0.2 0.2 0.2]\n",
            " [0.2 0.2 0.2 0.2 0.2]]\n",
            "[[0.028 0.028 0.458 0.028 0.458]\n",
            " [0.458 0.028 0.458 0.028 0.028]\n",
            " [0.028 0.458 0.028 0.458 0.028]\n",
            " [0.458 0.028 0.028 0.028 0.458]\n",
            " [0.028 0.028 0.888 0.028 0.028]]\n"
          ],
          "name": "stdout"
        }
      ]
    },
    {
      "cell_type": "code",
      "metadata": {
        "id": "gDAIsz_9ltFJ",
        "colab_type": "code",
        "colab": {
          "base_uri": "https://localhost:8080/",
          "height": 34
        },
        "outputId": "c4a15464-2d69-4680-d582-f4ff118a45cb"
      },
      "source": [
        "xc = e / n\n",
        "xct = et /n\n",
        "PASSOSM = 400\n",
        "\n",
        "for i in range(PASSOSM):\n",
        "  xct = xct.dot(PrM)\n",
        "  xct = xct/sum(sum(xct))\n",
        "  \n",
        "result_passo = np.array(xct)\n",
        "\n",
        "print(result_passo)"
      ],
      "execution_count": 231,
      "outputs": [
        {
          "output_type": "stream",
          "text": [
            "[[0.171 0.167 0.322 0.167 0.173]]\n"
          ],
          "name": "stdout"
        }
      ]
    },
    {
      "cell_type": "markdown",
      "metadata": {
        "id": "3OmMzxddVU0P",
        "colab_type": "text"
      },
      "source": [
        "# Usando os autovetores"
      ]
    },
    {
      "cell_type": "code",
      "metadata": {
        "id": "A-wUTOxNhqGY",
        "colab_type": "code",
        "colab": {
          "base_uri": "https://localhost:8080/",
          "height": 34
        },
        "outputId": "00991b42-78dd-49ef-acf0-e8d65032e6a2"
      },
      "source": [
        "xv = e / n\n",
        "\n",
        "w,vl,vr = eig(PrM,left=True)\n",
        "\n",
        "result_av = np.array(vl[:,0]/sum(vl[:,0]))\n",
        "\n",
        "print(result_av)"
      ],
      "execution_count": 232,
      "outputs": [
        {
          "output_type": "stream",
          "text": [
            "[0.171+0.j 0.167+0.j 0.322+0.j 0.167+0.j 0.173+0.j]\n"
          ],
          "name": "stdout"
        }
      ]
    },
    {
      "cell_type": "markdown",
      "metadata": {
        "id": "YwD7Y4usmK4E",
        "colab_type": "text"
      },
      "source": [
        "# Compara o resultado\n"
      ]
    },
    {
      "cell_type": "code",
      "metadata": {
        "id": "-7o8QNCQVaKv",
        "colab_type": "code",
        "colab": {
          "base_uri": "https://localhost:8080/",
          "height": 68
        },
        "outputId": "37c0cb44-c51d-4234-90f3-b040b86f30b1"
      },
      "source": [
        "resultados = [result_rw,result_passo,result_av]\n",
        "\n",
        "for r in range(len(resultados)):\n",
        "  print(resultados[r]/resultados[(r+1)%len(resultados)])\n",
        "  "
      ],
      "execution_count": 233,
      "outputs": [
        {
          "output_type": "stream",
          "text": [
            "[[0.998 1.    0.999 1.001 1.002]]\n",
            "[[1.+0.j 1.+0.j 1.+0.j 1.+0.j 1.+0.j]]\n",
            "[1.002+0.j 1.   +0.j 1.001+0.j 0.999+0.j 0.998+0.j]\n"
          ],
          "name": "stdout"
        }
      ]
    }
  ]
}